{
  "cells": [
    {
      "cell_type": "code",
      "execution_count": null,
      "id": "28b039a4",
      "metadata": {
        "id": "28b039a4"
      },
      "outputs": [],
      "source": [
        "import numpy as np\n",
        "import pandas as pd\n",
        "import matplotlib.pyplot as plt\n",
        "import matplotlib.image as mpimg\n",
        "import os\n",
        "import numba"
      ]
    },
    {
      "cell_type": "code",
      "execution_count": null,
      "id": "rcQICW4bBmTr",
      "metadata": {
        "colab": {
          "base_uri": "https://localhost:8080/"
        },
        "id": "rcQICW4bBmTr",
        "outputId": "6d72945c-d653-47b2-cf0e-c8130036c286"
      },
      "outputs": [
        {
          "name": "stdout",
          "output_type": "stream",
          "text": [
            "Mounted at /content/drive\n"
          ]
        }
      ],
      "source": [
        "from google.colab import drive\n",
        "drive.mount('/content/drive')"
      ]
    },
    {
      "cell_type": "code",
      "execution_count": null,
      "id": "153b7c65",
      "metadata": {
        "id": "153b7c65"
      },
      "outputs": [],
      "source": [
        "import tensorflow as tf "
      ]
    },
    {
      "cell_type": "code",
      "execution_count": null,
      "id": "80291b04",
      "metadata": {
        "id": "80291b04"
      },
      "outputs": [],
      "source": [
        "from keras.models import Sequential\n",
        "from keras.models import Model\n",
        "from keras.preprocessing.image import ImageDataGenerator\n",
        "from keras.preprocessing.image import load_img\n",
        "from keras.preprocessing.image import img_to_array\n",
        "from keras.optimizers import adam_v2\n",
        "from keras.optimizers import rmsprop_v2\n",
        "from keras.layers import Conv2D\n",
        "from keras.layers import MaxPool2D\n",
        "from keras.layers import GlobalAveragePooling2D\n",
        "from keras.layers import Activation\n",
        "from keras.layers import Dropout\n",
        "from keras.layers import BatchNormalization\n",
        "from keras.layers import Flatten\n",
        "from keras.layers import Dense\n",
        "from keras.layers import AvgPool2D\n",
        "from sklearn.metrics import confusion_matrix\n",
        "from sklearn.metrics import classification_report\n",
        "from tensorflow.keras.callbacks import EarlyStopping, ModelCheckpoint"
      ]
    },
    {
      "cell_type": "code",
      "execution_count": null,
      "id": "f4895159",
      "metadata": {
        "id": "f4895159"
      },
      "outputs": [],
      "source": [
        "import glob\n",
        "from zipfile import ZipFile"
      ]
    },
    {
      "cell_type": "code",
      "execution_count": null,
      "id": "c56c0fa0",
      "metadata": {
        "id": "c56c0fa0"
      },
      "outputs": [],
      "source": [
        "%matplotlib inline"
      ]
    },
    {
      "cell_type": "code",
      "execution_count": null,
      "id": "de007693",
      "metadata": {
        "id": "de007693"
      },
      "outputs": [],
      "source": [
        "df=\"/content/drive/MyDrive/Colab Notebooks/dataset3616\""
      ]
    },
    {
      "cell_type": "code",
      "execution_count": null,
      "id": "a4bd9986",
      "metadata": {
        "colab": {
          "base_uri": "https://localhost:8080/"
        },
        "id": "a4bd9986",
        "outputId": "516b1a2e-8e9d-426c-95bf-310bd566f873"
      },
      "outputs": [
        {
          "data": {
            "text/plain": [
              "['Viral', 'Covid', 'Normal']"
            ]
          },
          "execution_count": 9,
          "metadata": {},
          "output_type": "execute_result"
        }
      ],
      "source": [
        "os.listdir(df)"
      ]
    },
    {
      "cell_type": "code",
      "execution_count": null,
      "id": "7c0e45d5",
      "metadata": {
        "id": "7c0e45d5"
      },
      "outputs": [],
      "source": [
        "covid_img=[]\n",
        "normal_img=[]\n",
        "viral_img=[]\n",
        "filenames = os.listdir(df)\n",
        "for filename in glob.glob(df+'/Covid/*'):\n",
        "    covid_img.append(mpimg.imread(filename))\n",
        "for filename in glob.glob(df+'/Normal/*'):\n",
        "    normal_img.append(mpimg.imread(filename))\n",
        "for filename in glob.glob(df+'/Viral/*'):\n",
        "    viral_img.append(mpimg.imread(filename))"
      ]
    },
    {
      "cell_type": "code",
      "execution_count": null,
      "id": "8901c520",
      "metadata": {
        "colab": {
          "base_uri": "https://localhost:8080/"
        },
        "id": "8901c520",
        "outputId": "95f29da4-6783-4050-81b3-a1f75c528f2f"
      },
      "outputs": [
        {
          "name": "stdout",
          "output_type": "stream",
          "text": [
            "3616 3616 1345\n"
          ]
        }
      ],
      "source": [
        "print(len(covid_img),len(normal_img), len(viral_img))"
      ]
    },
    {
      "cell_type": "markdown",
      "id": "6aa00d4b",
      "metadata": {
        "id": "6aa00d4b"
      },
      "source": [
        "###  Preprocessing"
      ]
    },
    {
      "cell_type": "code",
      "execution_count": null,
      "id": "90de9e82",
      "metadata": {
        "id": "90de9e82"
      },
      "outputs": [],
      "source": [
        "Img_WID=256\n",
        "Img_HEI=256\n",
        "channel=3\n",
        "\n",
        "input_shape=(Img_WID, Img_HEI, channel)\n",
        "Nb_classes=3\n",
        "epochs=50\n",
        "batch_size=32"
      ]
    },
    {
      "cell_type": "markdown",
      "id": "65aabd1c",
      "metadata": {
        "id": "65aabd1c"
      },
      "source": [
        "### Model creation\n"
      ]
    },
    {
      "cell_type": "code",
      "execution_count": null,
      "id": "6f16ced5",
      "metadata": {
        "id": "6f16ced5"
      },
      "outputs": [],
      "source": [
        "model=Sequential()\n",
        "model.add(Conv2D(filters=32,kernel_size=(3,3),\n",
        "                 activation='relu',input_shape=(256,256,3)))\n",
        "\n",
        "model.add(Conv2D(filters=32,kernel_size=(3,3),activation='relu'))\n",
        "model.add(MaxPool2D())\n",
        "model.add(Dropout(rate=0.25))\n",
        "\n",
        "model.add(Conv2D(filters=32,kernel_size=(3,3),activation='relu'))\n",
        "model.add(MaxPool2D())\n",
        "model.add(Dropout(rate=0.50))\n",
        "\n",
        "model.add(Conv2D(filters=32,kernel_size=(3,3),activation='relu'))\n",
        "model.add(MaxPool2D())\n",
        "model.add(Dropout(rate=0.50))\n",
        "\n",
        "model.add(Flatten())\n",
        "model.add(Dense(units=64, activation='relu'))\n",
        "model.add(Dropout(rate=0.25))\n",
        "model.add(Dense(units=3,activation='softmax'))"
      ]
    },
    {
      "cell_type": "code",
      "execution_count": null,
      "id": "e68df249",
      "metadata": {
        "id": "e68df249"
      },
      "outputs": [],
      "source": [
        "model.compile(loss='sparse_categorical_crossentropy', \n",
        "              optimizer='adam',metrics=['accuracy'])"
      ]
    },
    {
      "cell_type": "code",
      "execution_count": null,
      "id": "778571c4",
      "metadata": {
        "colab": {
          "base_uri": "https://localhost:8080/"
        },
        "id": "778571c4",
        "outputId": "2c82eef1-ceae-4e2f-dda9-baf0edb72060"
      },
      "outputs": [
        {
          "name": "stdout",
          "output_type": "stream",
          "text": [
            "Model: \"sequential\"\n",
            "_________________________________________________________________\n",
            " Layer (type)                Output Shape              Param #   \n",
            "=================================================================\n",
            " conv2d (Conv2D)             (None, 254, 254, 32)      896       \n",
            "                                                                 \n",
            " conv2d_1 (Conv2D)           (None, 252, 252, 32)      9248      \n",
            "                                                                 \n",
            " max_pooling2d (MaxPooling2D  (None, 126, 126, 32)     0         \n",
            " )                                                               \n",
            "                                                                 \n",
            " dropout (Dropout)           (None, 126, 126, 32)      0         \n",
            "                                                                 \n",
            " conv2d_2 (Conv2D)           (None, 124, 124, 32)      9248      \n",
            "                                                                 \n",
            " max_pooling2d_1 (MaxPooling  (None, 62, 62, 32)       0         \n",
            " 2D)                                                             \n",
            "                                                                 \n",
            " dropout_1 (Dropout)         (None, 62, 62, 32)        0         \n",
            "                                                                 \n",
            " conv2d_3 (Conv2D)           (None, 60, 60, 32)        9248      \n",
            "                                                                 \n",
            " max_pooling2d_2 (MaxPooling  (None, 30, 30, 32)       0         \n",
            " 2D)                                                             \n",
            "                                                                 \n",
            " dropout_2 (Dropout)         (None, 30, 30, 32)        0         \n",
            "                                                                 \n",
            " flatten (Flatten)           (None, 28800)             0         \n",
            "                                                                 \n",
            " dense (Dense)               (None, 64)                1843264   \n",
            "                                                                 \n",
            " dropout_3 (Dropout)         (None, 64)                0         \n",
            "                                                                 \n",
            " dense_1 (Dense)             (None, 3)                 195       \n",
            "                                                                 \n",
            "=================================================================\n",
            "Total params: 1,872,099\n",
            "Trainable params: 1,872,099\n",
            "Non-trainable params: 0\n",
            "_________________________________________________________________\n"
          ]
        }
      ],
      "source": [
        "model.summary()"
      ]
    },
    {
      "cell_type": "markdown",
      "id": "781f9517",
      "metadata": {
        "id": "781f9517"
      },
      "source": [
        "###  Data splitting"
      ]
    },
    {
      "cell_type": "code",
      "execution_count": null,
      "id": "9c3be79c",
      "metadata": {
        "id": "9c3be79c"
      },
      "outputs": [],
      "source": [
        "train_datagen = ImageDataGenerator(rescale=1./255,\n",
        "    shear_range=0.2,\n",
        "    zoom_range=0.2,\n",
        "    horizontal_flip=True,\n",
        "    validation_split=0.3)"
      ]
    },
    {
      "cell_type": "code",
      "execution_count": null,
      "id": "f5538183",
      "metadata": {
        "colab": {
          "base_uri": "https://localhost:8080/"
        },
        "id": "f5538183",
        "outputId": "bc169d48-ffdd-4030-c623-1554358cb35c"
      },
      "outputs": [
        {
          "name": "stdout",
          "output_type": "stream",
          "text": [
            "Found 6006 images belonging to 3 classes.\n"
          ]
        }
      ],
      "source": [
        "train_generator = train_datagen.flow_from_directory(\n",
        "    df,\n",
        "    target_size=(256, 256),\n",
        "    batch_size=batch_size,\n",
        "    class_mode='binary',\n",
        "    subset='training')"
      ]
    },
    {
      "cell_type": "code",
      "execution_count": null,
      "id": "c30a4be0",
      "metadata": {
        "colab": {
          "base_uri": "https://localhost:8080/"
        },
        "id": "c30a4be0",
        "outputId": "f0884230-d10c-4630-ffb3-6356a49c26fb"
      },
      "outputs": [
        {
          "name": "stdout",
          "output_type": "stream",
          "text": [
            "Found 2571 images belonging to 3 classes.\n"
          ]
        }
      ],
      "source": [
        "validation_generator = train_datagen.flow_from_directory(\n",
        "    df, \n",
        "    target_size=(256, 256),\n",
        "    batch_size=batch_size,\n",
        "    class_mode='binary',\n",
        "    shuffle= False,\n",
        "    subset='validation')"
      ]
    },
    {
      "cell_type": "code",
      "execution_count": null,
      "id": "ab2968a0",
      "metadata": {
        "colab": {
          "base_uri": "https://localhost:8080/"
        },
        "id": "ab2968a0",
        "outputId": "bea64990-d6f4-4037-ecb7-dce54d0c88a8"
      },
      "outputs": [
        {
          "name": "stdout",
          "output_type": "stream",
          "text": [
            "Epoch 1/10\n",
            "187/187 [==============================] - 120s 638ms/step - loss: 0.1633 - accuracy: 0.9382 - val_loss: 0.4261 - val_accuracy: 0.8457\n",
            "Epoch 2/10\n",
            "187/187 [==============================] - 119s 638ms/step - loss: 0.1579 - accuracy: 0.9412 - val_loss: 0.3017 - val_accuracy: 0.8926\n",
            "Epoch 3/10\n",
            "187/187 [==============================] - 119s 639ms/step - loss: 0.1713 - accuracy: 0.9334 - val_loss: 0.3193 - val_accuracy: 0.8855\n",
            "Epoch 4/10\n",
            "187/187 [==============================] - 119s 636ms/step - loss: 0.1457 - accuracy: 0.9449 - val_loss: 0.2759 - val_accuracy: 0.8992\n",
            "Epoch 5/10\n",
            "187/187 [==============================] - 119s 638ms/step - loss: 0.1514 - accuracy: 0.9406 - val_loss: 0.3037 - val_accuracy: 0.8934\n",
            "Epoch 6/10\n",
            "187/187 [==============================] - 119s 636ms/step - loss: 0.1390 - accuracy: 0.9486 - val_loss: 0.3031 - val_accuracy: 0.8906\n",
            "Epoch 7/10\n",
            "187/187 [==============================] - 119s 638ms/step - loss: 0.1511 - accuracy: 0.9421 - val_loss: 0.3441 - val_accuracy: 0.8676\n",
            "Epoch 8/10\n",
            "187/187 [==============================] - 119s 638ms/step - loss: 0.1547 - accuracy: 0.9386 - val_loss: 0.2716 - val_accuracy: 0.8977\n",
            "Epoch 9/10\n",
            "187/187 [==============================] - 119s 637ms/step - loss: 0.1469 - accuracy: 0.9443 - val_loss: 0.3577 - val_accuracy: 0.8703\n",
            "Epoch 10/10\n",
            "187/187 [==============================] - 119s 637ms/step - loss: 0.1420 - accuracy: 0.9453 - val_loss: 0.3209 - val_accuracy: 0.8809\n"
          ]
        }
      ],
      "source": [
        "history = model.fit(\n",
        "    train_generator,\n",
        "    steps_per_epoch = train_generator.samples // batch_size,\n",
        "    validation_data = validation_generator, \n",
        "    validation_steps = validation_generator.samples // batch_size,\n",
        "    epochs = 10,\n",
        ")"
      ]
    },
    {
      "cell_type": "code",
      "execution_count": null,
      "id": "f37f757c",
      "metadata": {
        "colab": {
          "base_uri": "https://localhost:8080/"
        },
        "id": "f37f757c",
        "outputId": "8622f8a1-fdb7-4a84-b513-a9a86cb81cca"
      },
      "outputs": [
        {
          "name": "stdout",
          "output_type": "stream",
          "text": [
            "Epoch 11/40\n",
            "187/187 [==============================] - 119s 639ms/step - loss: 0.1618 - accuracy: 0.9377 - val_loss: 0.3564 - val_accuracy: 0.8699\n",
            "Epoch 12/40\n",
            "187/187 [==============================] - 119s 635ms/step - loss: 0.1389 - accuracy: 0.9434 - val_loss: 0.2858 - val_accuracy: 0.8934\n",
            "Epoch 13/40\n",
            "187/187 [==============================] - 119s 638ms/step - loss: 0.1507 - accuracy: 0.9386 - val_loss: 0.3159 - val_accuracy: 0.8852\n",
            "Epoch 14/40\n",
            "187/187 [==============================] - 119s 636ms/step - loss: 0.1493 - accuracy: 0.9436 - val_loss: 0.3367 - val_accuracy: 0.8820\n",
            "Epoch 15/40\n",
            "187/187 [==============================] - 119s 636ms/step - loss: 0.1461 - accuracy: 0.9439 - val_loss: 0.2823 - val_accuracy: 0.9031\n",
            "Epoch 16/40\n",
            "187/187 [==============================] - 120s 640ms/step - loss: 0.1675 - accuracy: 0.9354 - val_loss: 0.2861 - val_accuracy: 0.8906\n",
            "Epoch 17/40\n",
            "187/187 [==============================] - 119s 637ms/step - loss: 0.1439 - accuracy: 0.9446 - val_loss: 0.3046 - val_accuracy: 0.8938\n",
            "Epoch 18/40\n",
            "187/187 [==============================] - 119s 640ms/step - loss: 0.1664 - accuracy: 0.9386 - val_loss: 0.3404 - val_accuracy: 0.8789\n",
            "Epoch 19/40\n",
            "187/187 [==============================] - 119s 636ms/step - loss: 0.1350 - accuracy: 0.9461 - val_loss: 0.3040 - val_accuracy: 0.8895\n",
            "Epoch 20/40\n",
            "187/187 [==============================] - 119s 637ms/step - loss: 0.1412 - accuracy: 0.9466 - val_loss: 0.2940 - val_accuracy: 0.8918\n",
            "Epoch 21/40\n",
            "187/187 [==============================] - 119s 637ms/step - loss: 0.1456 - accuracy: 0.9433 - val_loss: 0.3055 - val_accuracy: 0.8898\n",
            "Epoch 22/40\n",
            "187/187 [==============================] - 119s 638ms/step - loss: 0.1362 - accuracy: 0.9443 - val_loss: 0.3641 - val_accuracy: 0.8766\n",
            "Epoch 23/40\n",
            "187/187 [==============================] - 119s 638ms/step - loss: 0.1488 - accuracy: 0.9451 - val_loss: 0.3462 - val_accuracy: 0.8734\n",
            "Epoch 24/40\n",
            "187/187 [==============================] - 119s 638ms/step - loss: 0.1377 - accuracy: 0.9481 - val_loss: 0.3149 - val_accuracy: 0.8914\n",
            "Epoch 25/40\n",
            "187/187 [==============================] - 120s 641ms/step - loss: 0.1463 - accuracy: 0.9416 - val_loss: 0.3504 - val_accuracy: 0.8840\n",
            "Epoch 26/40\n",
            "187/187 [==============================] - 120s 641ms/step - loss: 0.1484 - accuracy: 0.9436 - val_loss: 0.3809 - val_accuracy: 0.8598\n",
            "Epoch 27/40\n",
            "187/187 [==============================] - 121s 646ms/step - loss: 0.1378 - accuracy: 0.9438 - val_loss: 0.3066 - val_accuracy: 0.8883\n",
            "Epoch 28/40\n",
            "187/187 [==============================] - 120s 641ms/step - loss: 0.1476 - accuracy: 0.9428 - val_loss: 0.3147 - val_accuracy: 0.8840\n",
            "Epoch 29/40\n",
            "187/187 [==============================] - 120s 641ms/step - loss: 0.1419 - accuracy: 0.9456 - val_loss: 0.3091 - val_accuracy: 0.8871\n",
            "Epoch 30/40\n",
            "187/187 [==============================] - 119s 638ms/step - loss: 0.1460 - accuracy: 0.9446 - val_loss: 0.3513 - val_accuracy: 0.8781\n",
            "Epoch 31/40\n",
            "187/187 [==============================] - 120s 643ms/step - loss: 0.1396 - accuracy: 0.9481 - val_loss: 0.3742 - val_accuracy: 0.8652\n",
            "Epoch 32/40\n",
            "187/187 [==============================] - 119s 640ms/step - loss: 0.1314 - accuracy: 0.9499 - val_loss: 0.2829 - val_accuracy: 0.9066\n",
            "Epoch 33/40\n",
            "187/187 [==============================] - 121s 649ms/step - loss: 0.1412 - accuracy: 0.9459 - val_loss: 0.2957 - val_accuracy: 0.8957\n",
            "Epoch 34/40\n",
            "187/187 [==============================] - 121s 647ms/step - loss: 0.1349 - accuracy: 0.9459 - val_loss: 0.2718 - val_accuracy: 0.8992\n",
            "Epoch 35/40\n",
            "187/187 [==============================] - 121s 650ms/step - loss: 0.1374 - accuracy: 0.9499 - val_loss: 0.2947 - val_accuracy: 0.8977\n",
            "Epoch 36/40\n",
            "187/187 [==============================] - 121s 647ms/step - loss: 0.1392 - accuracy: 0.9488 - val_loss: 0.2940 - val_accuracy: 0.8926\n",
            "Epoch 37/40\n",
            "187/187 [==============================] - 121s 649ms/step - loss: 0.1353 - accuracy: 0.9466 - val_loss: 0.3389 - val_accuracy: 0.8852\n",
            "Epoch 38/40\n",
            "187/187 [==============================] - 121s 649ms/step - loss: 0.1410 - accuracy: 0.9493 - val_loss: 0.2683 - val_accuracy: 0.9074\n",
            "Epoch 39/40\n",
            "187/187 [==============================] - 122s 652ms/step - loss: 0.1491 - accuracy: 0.9459 - val_loss: 0.3424 - val_accuracy: 0.8824\n",
            "Epoch 40/40\n",
            "187/187 [==============================] - 121s 647ms/step - loss: 0.1257 - accuracy: 0.9493 - val_loss: 0.2959 - val_accuracy: 0.8953\n"
          ]
        }
      ],
      "source": [
        "history = model.fit(\n",
        "    train_generator,\n",
        "    steps_per_epoch = train_generator.samples // batch_size,\n",
        "    validation_data = validation_generator, \n",
        "    validation_steps = validation_generator.samples // batch_size,\n",
        "    epochs = 40,initial_epoch=10)"
      ]
    },
    {
      "cell_type": "code",
      "execution_count": null,
      "id": "wFe-W0wmigfJ",
      "metadata": {
        "colab": {
          "base_uri": "https://localhost:8080/"
        },
        "id": "wFe-W0wmigfJ",
        "outputId": "a2f96db9-3a4c-4ff3-9918-871c0a81f826"
      },
      "outputs": [
        {
          "name": "stdout",
          "output_type": "stream",
          "text": [
            "81/81 [==============================] - 36s 447ms/step - loss: 0.2847 - accuracy: 0.8985\n"
          ]
        },
        {
          "data": {
            "text/plain": [
              "[0.28471803665161133, 0.8984830975532532]"
            ]
          },
          "execution_count": 43,
          "metadata": {},
          "output_type": "execute_result"
        }
      ],
      "source": [
        "model.evaluate(validation_generator)"
      ]
    },
    {
      "cell_type": "code",
      "execution_count": null,
      "id": "87bbb230",
      "metadata": {
        "colab": {
          "base_uri": "https://localhost:8080/",
          "height": 935
        },
        "id": "87bbb230",
        "outputId": "77ef8c0f-732c-46ef-fe25-07071edf7560"
      },
      "outputs": [
        {
          "data": {
            "image/png": "[encoded data removed]",
            "text/plain": [
              "<Figure size 1152x1152 with 1 Axes>"
            ]
          },
          "metadata": {},
          "output_type": "display_data"
        },
        {
          "data": {
            "text/plain": [
              "<Figure size 576x396 with 0 Axes>"
            ]
          },
          "metadata": {},
          "output_type": "display_data"
        }
      ],
      "source": [
        "plt.style.use('seaborn')\n",
        "plt.figure(figsize=(16,16))\n",
        "plt.plot(history.history['accuracy'], color='b', label=\"Training accuracy\")\n",
        "plt.plot(history.history['val_accuracy'], color='r',label=\"Validation accuracy\")\n",
        "plt.plot(history.history['loss'], color='b', label=\"Training loss\")\n",
        "plt.plot(history.history['val_loss'], color='r', label=\"Validation loss\")\n",
        "plt.legend()\n",
        "plt.show()\n",
        "plt.savefig('/content/drive/MyDrive/Colab Notebooks/train_vs_val3616.jpg')"
      ]
    },
    {
      "cell_type": "code",
      "execution_count": null,
      "id": "6sy4UcRtkdyt",
      "metadata": {
        "colab": {
          "base_uri": "https://localhost:8080/"
        },
        "id": "6sy4UcRtkdyt",
        "outputId": "001dc8b7-c75b-4d47-badb-cdc0a05f4c67"
      },
      "outputs": [
        {
          "name": "stderr",
          "output_type": "stream",
          "text": [
            "/usr/local/lib/python3.7/dist-packages/ipykernel_launcher.py:1: UserWarning: `Model.predict_generator` is deprecated and will be removed in a future version. Please use `Model.predict`, which supports generators.\n",
            "  \"\"\"Entry point for launching an IPython kernel.\n"
          ]
        }
      ],
      "source": [
        "pred=model.predict_generator(validation_generator)"
      ]
    },
    {
      "cell_type": "code",
      "execution_count": null,
      "id": "8b6f1224",
      "metadata": {
        "colab": {
          "base_uri": "https://localhost:8080/"
        },
        "id": "8b6f1224",
        "outputId": "63f24d80-a0e0-4770-9ad6-c6c2800c38c9"
      },
      "outputs": [
        {
          "name": "stderr",
          "output_type": "stream",
          "text": [
            "/usr/local/lib/python3.7/dist-packages/ipykernel_launcher.py:1: UserWarning: `Model.predict_generator` is deprecated and will be removed in a future version. Please use `Model.predict`, which supports generators.\n",
            "  \"\"\"Entry point for launching an IPython kernel.\n"
          ]
        }
      ],
      "source": [
        "Y_pred = model.predict_generator(validation_generator,\n",
        "                                 2571 // batch_size+1)"
      ]
    },
    {
      "cell_type": "code",
      "execution_count": null,
      "id": "x3W4SXIVqpf5",
      "metadata": {
        "colab": {
          "base_uri": "https://localhost:8080/"
        },
        "id": "x3W4SXIVqpf5",
        "outputId": "19e25a2e-db41-4269-c9fe-21f6970c5ce4"
      },
      "outputs": [
        {
          "name": "stdout",
          "output_type": "stream",
          "text": [
            "Confusion Matrix\n",
            "[[973  67  44]\n",
            " [ 74 930  80]\n",
            " [  2  17 384]]\n"
          ]
        }
      ],
      "source": [
        "y_pred = np.argmax(Y_pred, axis=1)\n",
        "print('Confusion Matrix')\n",
        "print(confusion_matrix(validation_generator.classes, y_pred))"
      ]
    },
    {
      "cell_type": "code",
      "execution_count": null,
      "id": "bAJYZExtqxV3",
      "metadata": {
        "colab": {
          "base_uri": "https://localhost:8080/"
        },
        "id": "bAJYZExtqxV3",
        "outputId": "31b57073-9fdc-43ca-d247-da53b3ab6a1e"
      },
      "outputs": [
        {
          "name": "stdout",
          "output_type": "stream",
          "text": [
            "Classification Report\n",
            "              precision    recall  f1-score   support\n",
            "\n",
            "       Covid       0.93      0.90      0.91      1084\n",
            "      Normal       0.92      0.86      0.89      1084\n",
            "       Viral       0.76      0.95      0.84       403\n",
            "\n",
            "    accuracy                           0.89      2571\n",
            "   macro avg       0.87      0.90      0.88      2571\n",
            "weighted avg       0.90      0.89      0.89      2571\n",
            "\n"
          ]
        }
      ],
      "source": [
        "print('Classification Report')\n",
        "target_names = ['Covid', 'Normal', 'Viral']\n",
        "print(classification_report(validation_generator.classes, y_pred, target_names=target_names))"
      ]
    }
  ],
  "metadata": {
    "accelerator": "GPU",
    "colab": {
      "collapsed_sections": [],
      "machine_shape": "hm",
      "name": "newcovidmodel_3616.ipynb",
      "provenance": []
    },
    "kernelspec": {
      "display_name": "Python 3",
      "language": "python",
      "name": "python3"
    },
    "language_info": {
      "codemirror_mode": {
        "name": "ipython",
        "version": 3
      },
      "file_extension": ".py",
      "mimetype": "text/x-python",
      "name": "python",
      "nbconvert_exporter": "python",
      "pygments_lexer": "ipython3",
      "version": "3.8.8"
    }
  },
  "nbformat": 4,
  "nbformat_minor": 5
}